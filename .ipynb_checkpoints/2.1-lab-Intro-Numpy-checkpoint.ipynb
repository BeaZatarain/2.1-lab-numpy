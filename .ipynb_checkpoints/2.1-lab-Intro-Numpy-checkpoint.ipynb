{
 "cells": [
  {
   "cell_type": "markdown",
   "id": "ba975f43",
   "metadata": {},
   "source": [
    "#1. Import the NUMPY package under the name np."
   ]
  },
  {
   "cell_type": "code",
   "execution_count": 6,
   "id": "97acf596",
   "metadata": {},
   "outputs": [
    {
     "name": "stdout",
     "output_type": "stream",
     "text": [
      "Requirement already satisfied: numpy in c:\\users\\usuario\\anaconda3\\lib\\site-packages (1.21.5)\n",
      "Note: you may need to restart the kernel to use updated packages.\n"
     ]
    }
   ],
   "source": [
    "pip install numpy"
   ]
  },
  {
   "cell_type": "code",
   "execution_count": 7,
   "id": "02824259",
   "metadata": {},
   "outputs": [],
   "source": [
    "import numpy as np"
   ]
  },
  {
   "cell_type": "markdown",
   "id": "c492206c",
   "metadata": {},
   "source": [
    "#2. Print the NUMPY version and the configuration."
   ]
  },
  {
   "cell_type": "code",
   "execution_count": 13,
   "id": "63b47969",
   "metadata": {},
   "outputs": [
    {
     "name": "stdout",
     "output_type": "stream",
     "text": [
      "version  1.21.5\n",
      "blas_mkl_info:\n",
      "    libraries = ['mkl_rt']\n",
      "    library_dirs = ['C:/Users/Usuario/anaconda3\\\\Library\\\\lib']\n",
      "    define_macros = [('SCIPY_MKL_H', None), ('HAVE_CBLAS', None)]\n",
      "    include_dirs = ['C:/Users/Usuario/anaconda3\\\\Library\\\\include']\n",
      "blas_opt_info:\n",
      "    libraries = ['mkl_rt']\n",
      "    library_dirs = ['C:/Users/Usuario/anaconda3\\\\Library\\\\lib']\n",
      "    define_macros = [('SCIPY_MKL_H', None), ('HAVE_CBLAS', None)]\n",
      "    include_dirs = ['C:/Users/Usuario/anaconda3\\\\Library\\\\include']\n",
      "lapack_mkl_info:\n",
      "    libraries = ['mkl_rt']\n",
      "    library_dirs = ['C:/Users/Usuario/anaconda3\\\\Library\\\\lib']\n",
      "    define_macros = [('SCIPY_MKL_H', None), ('HAVE_CBLAS', None)]\n",
      "    include_dirs = ['C:/Users/Usuario/anaconda3\\\\Library\\\\include']\n",
      "lapack_opt_info:\n",
      "    libraries = ['mkl_rt']\n",
      "    library_dirs = ['C:/Users/Usuario/anaconda3\\\\Library\\\\lib']\n",
      "    define_macros = [('SCIPY_MKL_H', None), ('HAVE_CBLAS', None)]\n",
      "    include_dirs = ['C:/Users/Usuario/anaconda3\\\\Library\\\\include']\n",
      "Supported SIMD extensions in this NumPy install:\n",
      "    baseline = SSE,SSE2,SSE3\n",
      "    found = SSSE3,SSE41,POPCNT,SSE42,AVX,F16C,FMA3,AVX2,AVX512F,AVX512CD,AVX512_SKX,AVX512_CLX,AVX512_CNL\n",
      "    not found = \n",
      "config  None\n"
     ]
    }
   ],
   "source": [
    "print('version ', np.__version__) \n",
    "print('config 'np.show_config()\n",
    "\n"
   ]
  },
  {
   "cell_type": "markdown",
   "id": "b266f71a",
   "metadata": {},
   "source": [
    "#3. Generate a 2x3x5 3-dimensional array with random values. Assign the array to variable \"a\"\n",
    "# Challenge: there are at least three easy ways that use numpy to generate random arrays. How many ways can you find?"
   ]
  },
  {
   "cell_type": "code",
   "execution_count": 15,
   "id": "6581a12a",
   "metadata": {},
   "outputs": [
    {
     "data": {
      "text/plain": [
       "array([[[0.16657394, 0.13990802, 0.83674612, 0.38002711, 0.26406162],\n",
       "        [0.61020239, 0.52833911, 0.88825754, 0.1804861 , 0.49545152],\n",
       "        [0.57297893, 0.45455153, 0.85985409, 0.6543776 , 0.35825625]],\n",
       "\n",
       "       [[0.54333931, 0.2521995 , 0.74850196, 0.80215303, 0.03920964],\n",
       "        [0.84520132, 0.36079239, 0.25449978, 0.5792754 , 0.44186422],\n",
       "        [0.18054694, 0.87984779, 0.1574917 , 0.14145746, 0.43581438]]])"
      ]
     },
     "execution_count": 15,
     "metadata": {},
     "output_type": "execute_result"
    }
   ],
   "source": [
    "a = np.random.random((2, 3, 5))\n"
   ]
  },
  {
   "cell_type": "markdown",
   "id": "6dacc769",
   "metadata": {},
   "source": [
    "#4. Print a."
   ]
  },
  {
   "cell_type": "code",
   "execution_count": 16,
   "id": "f1c0fcca",
   "metadata": {},
   "outputs": [
    {
     "name": "stdout",
     "output_type": "stream",
     "text": [
      "[[[0.16657394 0.13990802 0.83674612 0.38002711 0.26406162]\n",
      "  [0.61020239 0.52833911 0.88825754 0.1804861  0.49545152]\n",
      "  [0.57297893 0.45455153 0.85985409 0.6543776  0.35825625]]\n",
      "\n",
      " [[0.54333931 0.2521995  0.74850196 0.80215303 0.03920964]\n",
      "  [0.84520132 0.36079239 0.25449978 0.5792754  0.44186422]\n",
      "  [0.18054694 0.87984779 0.1574917  0.14145746 0.43581438]]]\n"
     ]
    }
   ],
   "source": [
    "print (a)"
   ]
  },
  {
   "cell_type": "markdown",
   "id": "fa40415f",
   "metadata": {},
   "source": [
    "#5. Create a 5x2x3 3-dimensional array with all values equaling 1.\n",
    "#Assign the array to variable \"b\""
   ]
  },
  {
   "cell_type": "code",
   "execution_count": 22,
   "id": "e0d0232b",
   "metadata": {},
   "outputs": [],
   "source": [
    "b = np.ones((5,2,3))"
   ]
  },
  {
   "cell_type": "markdown",
   "id": "94efcb38",
   "metadata": {},
   "source": [
    "#6. Print b."
   ]
  },
  {
   "cell_type": "code",
   "execution_count": 23,
   "id": "28a993c9",
   "metadata": {},
   "outputs": [
    {
     "name": "stdout",
     "output_type": "stream",
     "text": [
      "[[[1. 1. 1.]\n",
      "  [1. 1. 1.]]\n",
      "\n",
      " [[1. 1. 1.]\n",
      "  [1. 1. 1.]]\n",
      "\n",
      " [[1. 1. 1.]\n",
      "  [1. 1. 1.]]\n",
      "\n",
      " [[1. 1. 1.]\n",
      "  [1. 1. 1.]]\n",
      "\n",
      " [[1. 1. 1.]\n",
      "  [1. 1. 1.]]]\n"
     ]
    }
   ],
   "source": [
    "print(b)"
   ]
  },
  {
   "cell_type": "markdown",
   "id": "58f113a8",
   "metadata": {},
   "source": [
    "#7. Do a and b have the same size? How do you prove that in Python code?"
   ]
  },
  {
   "cell_type": "code",
   "execution_count": 26,
   "id": "b115c7ee",
   "metadata": {},
   "outputs": [
    {
     "name": "stdout",
     "output_type": "stream",
     "text": [
      "(5, 2, 3)\n",
      "(2, 3, 5)\n"
     ]
    }
   ],
   "source": [
    "np.shape(b) == np.shape(a)\n",
    "\n",
    "print(np.shape(b))\n",
    "print(np.shape(a))"
   ]
  },
  {
   "cell_type": "markdown",
   "id": "7a208df7",
   "metadata": {},
   "source": [
    "#8. Are you able to add a and b? Why or why not?"
   ]
  },
  {
   "cell_type": "code",
   "execution_count": 27,
   "id": "dec93129",
   "metadata": {},
   "outputs": [
    {
     "ename": "ValueError",
     "evalue": "operands could not be broadcast together with shapes (2,3,5) (5,2,3) ",
     "output_type": "error",
     "traceback": [
      "\u001b[1;31m---------------------------------------------------------------------------\u001b[0m",
      "\u001b[1;31mValueError\u001b[0m                                Traceback (most recent call last)",
      "\u001b[1;32m~\\AppData\\Local\\Temp\\ipykernel_19200\\116260056.py\u001b[0m in \u001b[0;36m<module>\u001b[1;34m\u001b[0m\n\u001b[1;32m----> 1\u001b[1;33m \u001b[0mnp\u001b[0m\u001b[1;33m.\u001b[0m\u001b[0madd\u001b[0m\u001b[1;33m(\u001b[0m\u001b[0ma\u001b[0m\u001b[1;33m,\u001b[0m\u001b[0mb\u001b[0m\u001b[1;33m)\u001b[0m\u001b[1;33m\u001b[0m\u001b[1;33m\u001b[0m\u001b[0m\n\u001b[0m",
      "\u001b[1;31mValueError\u001b[0m: operands could not be broadcast together with shapes (2,3,5) (5,2,3) "
     ]
    }
   ],
   "source": [
    "np.add(a,b)"
   ]
  },
  {
   "cell_type": "markdown",
   "id": "207d3e91",
   "metadata": {},
   "source": [
    "No, you can't as the number of colums in a does not fit the number of rows  in b"
   ]
  },
  {
   "cell_type": "markdown",
   "id": "531903e5",
   "metadata": {},
   "source": [
    "#9. Transpose b so that it has the same structure of a (i.e. become a 2x3x5 array). Assign the transposed array to varialbe \"c\"."
   ]
  },
  {
   "cell_type": "code",
   "execution_count": 40,
   "id": "38221045",
   "metadata": {},
   "outputs": [
    {
     "name": "stdout",
     "output_type": "stream",
     "text": [
      "(2, 3, 5)\n"
     ]
    },
    {
     "data": {
      "text/plain": [
       "array([[[1., 1., 1., 1., 1.],\n",
       "        [1., 1., 1., 1., 1.],\n",
       "        [1., 1., 1., 1., 1.]],\n",
       "\n",
       "       [[1., 1., 1., 1., 1.],\n",
       "        [1., 1., 1., 1., 1.],\n",
       "        [1., 1., 1., 1., 1.]]])"
      ]
     },
     "execution_count": 40,
     "metadata": {},
     "output_type": "execute_result"
    }
   ],
   "source": [
    "c = b.reshape(2,3,5)\n",
    "\n",
    "print(c.shape)\n",
    "\n",
    "c"
   ]
  },
  {
   "cell_type": "markdown",
   "id": "da3870f6",
   "metadata": {},
   "source": [
    "#10. Try to add a and c. Now it should work. Assign the sum to varialbe \"d\". But why does it work now?"
   ]
  },
  {
   "cell_type": "code",
   "execution_count": 41,
   "id": "3fe67982",
   "metadata": {},
   "outputs": [
    {
     "data": {
      "text/plain": [
       "array([[[1.16657394, 1.13990802, 1.83674612, 1.38002711, 1.26406162],\n",
       "        [1.61020239, 1.52833911, 1.88825754, 1.1804861 , 1.49545152],\n",
       "        [1.57297893, 1.45455153, 1.85985409, 1.6543776 , 1.35825625]],\n",
       "\n",
       "       [[1.54333931, 1.2521995 , 1.74850196, 1.80215303, 1.03920964],\n",
       "        [1.84520132, 1.36079239, 1.25449978, 1.5792754 , 1.44186422],\n",
       "        [1.18054694, 1.87984779, 1.1574917 , 1.14145746, 1.43581438]]])"
      ]
     },
     "execution_count": 41,
     "metadata": {},
     "output_type": "execute_result"
    }
   ],
   "source": [
    "d=np.add(a,c)\n",
    "\n",
    "d"
   ]
  },
  {
   "cell_type": "markdown",
   "id": "84216a85",
   "metadata": {},
   "source": [
    "#11. Print a and d. Notice the difference and relation of the two array in terms of the values? Explain.\n"
   ]
  },
  {
   "cell_type": "code",
   "execution_count": 44,
   "id": "59b646e5",
   "metadata": {},
   "outputs": [
    {
     "name": "stdout",
     "output_type": "stream",
     "text": [
      "a :  [[[0.16657394 0.13990802 0.83674612 0.38002711 0.26406162]\n",
      "  [0.61020239 0.52833911 0.88825754 0.1804861  0.49545152]\n",
      "  [0.57297893 0.45455153 0.85985409 0.6543776  0.35825625]]\n",
      "\n",
      " [[0.54333931 0.2521995  0.74850196 0.80215303 0.03920964]\n",
      "  [0.84520132 0.36079239 0.25449978 0.5792754  0.44186422]\n",
      "  [0.18054694 0.87984779 0.1574917  0.14145746 0.43581438]]]\n",
      "b :  [[[1. 1. 1.]\n",
      "  [1. 1. 1.]]\n",
      "\n",
      " [[1. 1. 1.]\n",
      "  [1. 1. 1.]]\n",
      "\n",
      " [[1. 1. 1.]\n",
      "  [1. 1. 1.]]\n",
      "\n",
      " [[1. 1. 1.]\n",
      "  [1. 1. 1.]]\n",
      "\n",
      " [[1. 1. 1.]\n",
      "  [1. 1. 1.]]]\n"
     ]
    }
   ],
   "source": [
    "print('a : ', a)\n",
    "print('b : ', b)\n"
   ]
  },
  {
   "cell_type": "markdown",
   "id": "1ef5a5da",
   "metadata": {},
   "source": [
    "difference = they have different shape\n",
    "\n",
    "common facts = they both are 3 - dimensional\n"
   ]
  },
  {
   "cell_type": "markdown",
   "id": "282a8542",
   "metadata": {},
   "source": [
    "#12. Multiply a and c. Assign the result to e."
   ]
  },
  {
   "cell_type": "code",
   "execution_count": 45,
   "id": "e243514d",
   "metadata": {},
   "outputs": [
    {
     "data": {
      "text/plain": [
       "array([[[0.16657394, 0.13990802, 0.83674612, 0.38002711, 0.26406162],\n",
       "        [0.61020239, 0.52833911, 0.88825754, 0.1804861 , 0.49545152],\n",
       "        [0.57297893, 0.45455153, 0.85985409, 0.6543776 , 0.35825625]],\n",
       "\n",
       "       [[0.54333931, 0.2521995 , 0.74850196, 0.80215303, 0.03920964],\n",
       "        [0.84520132, 0.36079239, 0.25449978, 0.5792754 , 0.44186422],\n",
       "        [0.18054694, 0.87984779, 0.1574917 , 0.14145746, 0.43581438]]])"
      ]
     },
     "execution_count": 45,
     "metadata": {},
     "output_type": "execute_result"
    }
   ],
   "source": [
    " e = np.multiply(a,c)\n",
    "    \n",
    "e"
   ]
  },
  {
   "cell_type": "markdown",
   "id": "3426758f",
   "metadata": {},
   "source": [
    "#13. Does e equal to a? Why or why not?"
   ]
  },
  {
   "cell_type": "code",
   "execution_count": 49,
   "id": "61355e02",
   "metadata": {},
   "outputs": [
    {
     "name": "stdout",
     "output_type": "stream",
     "text": [
      "True\n",
      "(2, 3, 5)\n",
      "(2, 3, 5)\n"
     ]
    }
   ],
   "source": [
    "prueba = np.shape(e) == np.shape(a)\n",
    "\n",
    "print (prueba)\n",
    "\n",
    "print(np.shape(e))\n",
    "print(np.shape(a))\n"
   ]
  },
  {
   "cell_type": "markdown",
   "id": "ede32243",
   "metadata": {},
   "source": [
    "#14. Identify the max, min, and mean values in d. Assign those values to variables \"d_max\", \"d_min\", and \"d_mean\"\n"
   ]
  },
  {
   "cell_type": "code",
   "execution_count": 53,
   "id": "2c97f886",
   "metadata": {},
   "outputs": [
    {
     "name": "stdout",
     "output_type": "stream",
     "text": [
      "max:  1.8882575440029328\n",
      "min:  1.0392096429983657\n",
      "mean 1.4684088900806598\n"
     ]
    }
   ],
   "source": [
    "d_max = d.max()\n",
    "d_min = d.min()\n",
    "d_mean = d.mean()\n",
    "\n",
    "print('max: ',d_max)\n",
    "print('min: ',d_min)\n",
    "print('mean',d_mean)\n"
   ]
  },
  {
   "cell_type": "markdown",
   "id": "80c0d3cd",
   "metadata": {},
   "source": [
    "#15. Now we want to label the values in d. First create an empty array \"f\" with the same shape (i.e. 2x3x5) as d using `np.empty`."
   ]
  },
  {
   "cell_type": "code",
   "execution_count": 61,
   "id": "240578a9",
   "metadata": {},
   "outputs": [
    {
     "data": {
      "text/plain": [
       "array([[[0.16657394, 0.13990802, 0.83674612, 0.38002711, 0.26406162],\n",
       "        [0.61020239, 0.52833911, 0.88825754, 0.1804861 , 0.49545152],\n",
       "        [0.57297893, 0.45455153, 0.85985409, 0.6543776 , 0.35825625]],\n",
       "\n",
       "       [[0.54333931, 0.2521995 , 0.74850196, 0.80215303, 0.03920964],\n",
       "        [0.84520132, 0.36079239, 0.25449978, 0.5792754 , 0.44186422],\n",
       "        [0.18054694, 0.87984779, 0.1574917 , 0.14145746, 0.43581438]]])"
      ]
     },
     "execution_count": 61,
     "metadata": {},
     "output_type": "execute_result"
    }
   ],
   "source": [
    "f = np.empty((2,3,5))\n",
    "\n",
    "f"
   ]
  },
  {
   "cell_type": "markdown",
   "id": "0eb1fd7d",
   "metadata": {},
   "source": [
    "\"\"\"\n",
    "#16. Populate the values in f. For each value in d, if it's larger than d_min but smaller than d_mean, assign 25 to the corresponding value in f.\n",
    "If a value in d is larger than d_mean but smaller than d_max, assign 75 to the corresponding value in f.\n",
    "If a value equals to d_mean, assign 50 to the corresponding value in f.\n",
    "Assign 0 to the corresponding value(s) in f for d_min in d.\n",
    "Assign 100 to the corresponding value(s) in f for d_max in d.\n",
    "In the end, f should have only the following values: 0, 25, 50, 75, and 100.\n",
    "Note: you don't have to use Numpy in this question.\n",
    "\"\"\""
   ]
  },
  {
   "cell_type": "code",
   "execution_count": 75,
   "id": "88b5fee1",
   "metadata": {},
   "outputs": [
    {
     "data": {
      "text/plain": [
       "array([[[ 25,  25,  75,  25,  25],\n",
       "        [ 75,  75, 100,  25,  75],\n",
       "        [ 75,  25,  75,  75,  25]],\n",
       "\n",
       "       [[ 75,  25,  75,  75,   0],\n",
       "        [ 75,  25,  25,  75,  25],\n",
       "        [ 25,  75,  25,  25,  25]]])"
      ]
     },
     "execution_count": 75,
     "metadata": {},
     "output_type": "execute_result"
    }
   ],
   "source": [
    "f = 25 * (d > d_min) * (d < d_mean) + 75 * (d < d_max) * (d > d_mean) + 0 * (d == d_min) + 100 * (d == d_max) + 50 * (d == d_mean)\n",
    "\n",
    "f"
   ]
  },
  {
   "cell_type": "markdown",
   "id": "f3a2df60",
   "metadata": {},
   "source": [
    "\"\"\"\n",
    "#17. Print d and f. Do you have your expected f?\n",
    "For instance, if your d is:\n",
    "array([[[1.85836099, 1.67064465, 1.62576044, 1.40243961, 1.88454931],\n",
    "        [1.75354326, 1.69403643, 1.36729252, 1.61415071, 1.12104981],\n",
    "        [1.72201435, 1.1862918 , 1.87078449, 1.7726778 , 1.88180042]],\n",
    "\n",
    "       [[1.44747908, 1.31673383, 1.02000951, 1.52218947, 1.97066381],\n",
    "        [1.79129243, 1.74983003, 1.96028037, 1.85166831, 1.65450881],\n",
    "        [1.18068344, 1.9587381 , 1.00656599, 1.93402165, 1.73514584]]])\n",
    "\n",
    "Your f should be:\n",
    "array([[[ 75.,  75.,  75.,  25.,  75.],\n",
    "        [ 75.,  75.,  25.,  25.,  25.],\n",
    "        [ 75.,  25.,  75.,  75.,  75.]],\n",
    "\n",
    "       [[ 25.,  25.,  25.,  25., 100.],\n",
    "        [ 75.,  75.,  75.,  75.,  75.],\n",
    "        [ 25.,  75.,   0.,  75.,  75.]]])\n",
    "\"\"\"\n"
   ]
  },
  {
   "cell_type": "code",
   "execution_count": 76,
   "id": "e9a90ae0",
   "metadata": {},
   "outputs": [
    {
     "name": "stdout",
     "output_type": "stream",
     "text": [
      "d:  [[[1.16657394 1.13990802 1.83674612 1.38002711 1.26406162]\n",
      "  [1.61020239 1.52833911 1.88825754 1.1804861  1.49545152]\n",
      "  [1.57297893 1.45455153 1.85985409 1.6543776  1.35825625]]\n",
      "\n",
      " [[1.54333931 1.2521995  1.74850196 1.80215303 1.03920964]\n",
      "  [1.84520132 1.36079239 1.25449978 1.5792754  1.44186422]\n",
      "  [1.18054694 1.87984779 1.1574917  1.14145746 1.43581438]]]\n",
      "f:  [[[ 25  25  75  25  25]\n",
      "  [ 75  75 100  25  75]\n",
      "  [ 75  25  75  75  25]]\n",
      "\n",
      " [[ 75  25  75  75   0]\n",
      "  [ 75  25  25  75  25]\n",
      "  [ 25  75  25  25  25]]]\n"
     ]
    }
   ],
   "source": [
    "print('d: ', d)\n",
    "print('f: ', f)"
   ]
  },
  {
   "cell_type": "markdown",
   "id": "5b49b596",
   "metadata": {},
   "source": [
    "\"\"\"\n",
    "#18. Bonus question: instead of using numbers (i.e. 0, 25, 50, 75, and 100), how to use string values \n",
    "(\"A\", \"B\", \"C\", \"D\", and \"E\") to label the array elements? You are expecting the result to be:\n",
    "array([[[ 'D',  'D',  'D',  'B',  'D'],\n",
    "        [ 'D',  'D',  'B',  'B',  'B'],\n",
    "        [ 'D',  'B',  'D',  'D',  'D']],\n",
    "\n",
    "       [[ 'B',  'B',  'B',  'B',  'E'],\n",
    "        [ 'D',  'D',  'D',  'D',  'D'],\n",
    "        [ 'B',  'D',   'A',  'D', 'D']]])\n",
    "Again, you don't need Numpy in his question.\n",
    "\"\"\""
   ]
  },
  {
   "cell_type": "code",
   "execution_count": null,
   "id": "f04f4362",
   "metadata": {},
   "outputs": [],
   "source": [
    "g= np.empty((2,3,5)), dtype= object)\n"
   ]
  },
  {
   "cell_type": "code",
   "execution_count": 78,
   "id": "41c0247c",
   "metadata": {},
   "outputs": [
    {
     "name": "stdout",
     "output_type": "stream",
     "text": [
      "[[['A' 'A' 'B' 'A' 'A']\n",
      "  ['B' 'B' 'D' 'A' 'B']\n",
      "  ['B' 'A' 'B' 'B' 'A']]\n",
      "\n",
      " [['B' 'A' 'B' 'B' 'E']\n",
      "  ['B' 'A' 'A' 'B' 'A']\n",
      "  ['A' 'B' 'A' 'A' 'A']]]\n"
     ]
    }
   ],
   "source": [
    "f= f.astype(object)\n",
    "\n",
    "f [( f==25)] ='A'\n",
    "f [( f==75)] ='B'\n",
    "f [( f==50)] ='C'\n",
    "f [( f==100)] ='D'\n",
    "f [( f==0)] ='E'\n",
    "\n",
    "print(f)\n",
    "\n"
   ]
  },
  {
   "cell_type": "code",
   "execution_count": null,
   "id": "ce040e7f",
   "metadata": {},
   "outputs": [],
   "source": []
  }
 ],
 "metadata": {
  "kernelspec": {
   "display_name": "Python 3 (ipykernel)",
   "language": "python",
   "name": "python3"
  },
  "language_info": {
   "codemirror_mode": {
    "name": "ipython",
    "version": 3
   },
   "file_extension": ".py",
   "mimetype": "text/x-python",
   "name": "python",
   "nbconvert_exporter": "python",
   "pygments_lexer": "ipython3",
   "version": "3.9.13"
  }
 },
 "nbformat": 4,
 "nbformat_minor": 5
}
